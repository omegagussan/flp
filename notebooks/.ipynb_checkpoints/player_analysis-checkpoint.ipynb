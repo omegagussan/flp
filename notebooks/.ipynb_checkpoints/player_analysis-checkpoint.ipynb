{
 "cells": [
  {
   "cell_type": "code",
   "execution_count": 1,
   "metadata": {},
   "outputs": [],
   "source": [
    "load_ext autoreload"
   ]
  },
  {
   "cell_type": "code",
   "execution_count": 2,
   "metadata": {},
   "outputs": [
    {
     "name": "stdout",
     "output_type": "stream",
     "text": [
      "ln: failed to create symbolic link 'main.py': File exists\n",
      "ln: failed to create symbolic link 'team.py': File exists\n",
      "ln: failed to create symbolic link 'position.py': File exists\n"
     ]
    }
   ],
   "source": [
    "!ln -s /home/app/src/main.py main.py\n",
    "!ln -s /home/app/src/team.py team.py\n",
    "!ln -s /home/app/src/position.py position.py"
   ]
  },
  {
   "cell_type": "code",
   "execution_count": 3,
   "metadata": {},
   "outputs": [],
   "source": [
    "autoreload 2"
   ]
  },
  {
   "cell_type": "code",
   "execution_count": 4,
   "metadata": {},
   "outputs": [],
   "source": [
    "from main import get_players_df"
   ]
  },
  {
   "cell_type": "code",
   "execution_count": 5,
   "metadata": {},
   "outputs": [],
   "source": [
    "from datetime import datetime\n",
    "date_str = datetime.today().strftime('%Y-%m-%d')"
   ]
  },
  {
   "cell_type": "code",
   "execution_count": 6,
   "metadata": {},
   "outputs": [],
   "source": [
    "players_df = await get_players_df(date_str)"
   ]
  },
  {
   "cell_type": "code",
   "execution_count": 7,
   "metadata": {},
   "outputs": [],
   "source": [
    "players_df[\"pp90\"] = players_df[\"total_points\"] / players_df[\"minutes\"] * 90"
   ]
  },
  {
   "cell_type": "code",
   "execution_count": 8,
   "metadata": {},
   "outputs": [],
   "source": [
    "players_df[\"ppv\"] = players_df[\"total_points\"] / players_df[\"now_cost\"]"
   ]
  },
  {
   "cell_type": "code",
   "execution_count": 9,
   "metadata": {},
   "outputs": [],
   "source": [
    "df = players_df[[\"name\", \"now_cost\", \"team_name\", \"total_points\", \"position\", \"pp90\", \"bonus\", \"ppv\"]]"
   ]
  },
  {
   "cell_type": "code",
   "execution_count": 126,
   "metadata": {},
   "outputs": [],
   "source": [
    "df_playing = df[df[\"pp90\"] > 2.0]"
   ]
  },
  {
   "cell_type": "code",
   "execution_count": 127,
   "metadata": {},
   "outputs": [
    {
     "data": {
      "text/plain": [
       "364"
      ]
     },
     "execution_count": 127,
     "metadata": {},
     "output_type": "execute_result"
    }
   ],
   "source": [
    "len(df_playing)"
   ]
  },
  {
   "cell_type": "code",
   "execution_count": 129,
   "metadata": {},
   "outputs": [
    {
     "data": {
      "application/vnd.jupyter.widget-view+json": {
       "model_id": "09c37174a43743f2a9e9ee2167765b65",
       "version_major": 2,
       "version_minor": 0
      },
      "text/plain": [
       "QgridWidget(grid_options={'fullWidthRows': True, 'syncColumnCellResize': True, 'forceFitColumns': True, 'defau…"
      ]
     },
     "metadata": {},
     "output_type": "display_data"
    }
   ],
   "source": [
    "import qgrid\n",
    "qgrid.show_grid(df_playing)"
   ]
  },
  {
   "cell_type": "code",
   "execution_count": 130,
   "metadata": {},
   "outputs": [],
   "source": [
    "def_df = df_playing[df_playing[\"position\"] == \"DEF\"]\n",
    "mid_df = df_playing[df_playing[\"position\"] == \"MID\"]\n",
    "fwd_df = df_playing[df_playing[\"position\"] == \"FWD\"]"
   ]
  },
  {
   "cell_type": "code",
   "execution_count": 97,
   "metadata": {},
   "outputs": [],
   "source": [
    "import constraint"
   ]
  },
  {
   "cell_type": "markdown",
   "metadata": {},
   "source": [
    "layout of team. Rightmost player is benched\n",
    "\n",
    "### Keepers\n",
    "a b\n",
    "### Defenders\n",
    "c d e f g\n",
    "### Midfielders\n",
    "h i j k l\n",
    "### Forwards\n",
    "m n o"
   ]
  },
  {
   "cell_type": "code",
   "execution_count": 178,
   "metadata": {},
   "outputs": [],
   "source": [
    "def get_player(df, name):\n",
    "    idx_array = df[df[\"name\"] == name].index.values\n",
    "    return idx_array"
   ]
  },
  {
   "cell_type": "code",
   "execution_count": 191,
   "metadata": {},
   "outputs": [
    {
     "name": "stdout",
     "output_type": "stream",
     "text": [
      "[1112]\n",
      "{'A': 'Mathew Ryan', 'B': 'David Button', 'C': 'Trent Alexander-Arnold', 'D': 'Matt Doherty', 'E': 'Charlie Taylor', 'F': 'James Justin', 'G': 'Rob Holding', 'H': 'Kevin De Bruyne', 'I': 'Bruno Miguel Borges Fernandes', 'J': 'Willian Borges Da Silva', 'L': 'Adama Traoré', 'N': 'Aleksandar Mitrović', 'O': 'Harry Kane', 'M': 'Jordan Ayew', 'K': 'Declan Rice'}\n",
      "995\n"
     ]
    }
   ],
   "source": [
    "from collections import Counter\n",
    "\n",
    "\n",
    "problem = constraint.Problem()\n",
    "problem.addVariable('A', get_player(df, \"Mathew Ryan\"))\n",
    "problem.addVariable('B', get_player(df, \"David Button\"))\n",
    "\n",
    "problem.addVariable('C', get_player(df, \"Trent Alexander-Arnold\"))\n",
    "problem.addVariable('D', get_player(df, \"Matt Doherty\"))\n",
    "problem.addVariable('E', get_player(df, \"Charlie Taylor\"))\n",
    "problem.addVariable('F', get_player(df, \"James Justin\"))\n",
    "problem.addVariable('G', get_player(df, \"Rob Holding\"))\n",
    "\n",
    "problem.addVariable('H', get_player(df, \"Kevin De Bruyne\"))\n",
    "problem.addVariable('I', get_player(df, \"Bruno Miguel Borges Fernandes\"))\n",
    "problem.addVariable('J', get_player(df, \"Willian Borges Da Silva\"))\n",
    "problem.addVariable('K', mid_df.index.values)\n",
    "problem.addVariable('L', get_player(df, \"Adama Traoré\"))\n",
    "\n",
    "problem.addVariable('M', fwd_df.index.values)\n",
    "problem.addVariable('N', get_player(df, \"Aleksandar Mitrović\"))\n",
    "problem.addVariable('O', get_player(df, \"Harry Kane\"))\n",
    "\n",
    "def max_three_per_team(*argv):\n",
    "    teams = [df.loc[[id]][\"team_name\"].values for id in argv]\n",
    "    teams_frequency = Counter(teams).values()\n",
    "    if not any(frequency > 3 for frequency in teams_frequency):\n",
    "        return True\n",
    "    \n",
    "def sum_price(*argv):\n",
    "    prices = [df.loc[[id]][\"now_cost\"].values for id in argv]\n",
    "    if sum(prices) < 1000:\n",
    "        return True\n",
    "\n",
    "problem.addConstraint(sum_price, \"ABCDEFGHIJKLMNO\")\n",
    "problem.addConstraint(constraint.AllDifferentConstraint())\n",
    "\n",
    "solutions = problem.getSolutions()\n",
    "\n",
    "def points(ids):\n",
    "    return sorted([df.loc[[id]][\"total_points\"].values for id in ids])\n",
    "\n",
    "def team_points(ids):\n",
    "    keepers = points(ids[0:2])\n",
    "    defenders = points(ids[2:7])\n",
    "    midfilders = points(ids[7:11])\n",
    "    strikers = points(ids[12:])\n",
    "    base_points = sum(keepers[0]) + sum(defenders[0:3]) + sum(strikers[0]) # 5 players\n",
    "    rest = sorted(defenders[3:] + midfilders + strikers[1:]) # best of the rest 6\n",
    "    return base_points + sum(rest[0:6])\n",
    "\n",
    "def get_team_from_dict(df, d):\n",
    "    d_r = d.copy()\n",
    "    for key, id in d.items():\n",
    "        d_r[key] = df.loc[[id]][\"name\"].values[0]\n",
    "    return d_r\n",
    "\n",
    "def get_team_cost_from_dict(df, d):\n",
    "    return  sum([df.loc[[id]][\"now_cost\"].values[0] for id in d.values()])\n",
    "\n",
    "total_points = [team_points(list(d.values())) for d in solutions]\n",
    "max_points = max(total_points)\n",
    "print(max_points)\n",
    "max_points_index = total_points.index(max(max_points))\n",
    "max_points_solution = solutions[max_points_index]\n",
    "print(get_team_from_dict(df, max_points_solution))\n",
    "print(get_team_cost_from_dict(df, max_points_solution))"
   ]
  },
  {
   "cell_type": "code",
   "execution_count": null,
   "metadata": {},
   "outputs": [],
   "source": []
  }
 ],
 "metadata": {
  "kernelspec": {
   "display_name": "Python 3",
   "language": "python",
   "name": "python3"
  },
  "language_info": {
   "codemirror_mode": {
    "name": "ipython",
    "version": 3
   },
   "file_extension": ".py",
   "mimetype": "text/x-python",
   "name": "python",
   "nbconvert_exporter": "python",
   "pygments_lexer": "ipython3",
   "version": "3.7.8"
  }
 },
 "nbformat": 4,
 "nbformat_minor": 4
}
